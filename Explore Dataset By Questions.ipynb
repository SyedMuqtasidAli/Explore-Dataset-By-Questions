{
 "cells": [
  {
   "cell_type": "code",
   "execution_count": 3,
   "id": "f6e30a9b-fc21-47b3-9f98-d5457bf25163",
   "metadata": {
    "tags": []
   },
   "outputs": [],
   "source": [
    "import numpy as np"
   ]
  },
  {
   "cell_type": "code",
   "execution_count": 4,
   "id": "b3220e1a-6da5-4fdd-b08b-dabc7b636db6",
   "metadata": {
    "tags": []
   },
   "outputs": [],
   "source": [
    "import pandas as pd"
   ]
  },
  {
   "cell_type": "code",
   "execution_count": 5,
   "id": "605c73e8-a343-4e0a-b36e-2cded91877ae",
   "metadata": {
    "tags": []
   },
   "outputs": [],
   "source": [
    "import matplotlib.pyplot as plt"
   ]
  },
  {
   "cell_type": "code",
   "execution_count": 6,
   "id": "f3e392ef-947b-46b9-9d63-5fb6788dfd2f",
   "metadata": {
    "tags": []
   },
   "outputs": [],
   "source": [
    "np.random.seed(42)"
   ]
  },
  {
   "cell_type": "code",
   "execution_count": 7,
   "id": "5bde944c-9eec-4a52-a6c9-4d4d730e67fb",
   "metadata": {
    "tags": []
   },
   "outputs": [],
   "source": [
    "# NAMES\n",
    "names = np.random.choice(['John', 'Emily', 'Daniel', 'Emma', 'Michael'], size=300)\n",
    "last_names = np.random.choice(['Smith', 'Johnson', 'Lee', 'Wilson', 'Brown'], size=300)\n",
    "full_names = [f'{first} {last}' for first, last in zip(names, last_names)]"
   ]
  },
  {
   "cell_type": "code",
   "execution_count": 8,
   "id": "1d20951c-159e-4eef-82ac-7747c9e5175e",
   "metadata": {
    "tags": []
   },
   "outputs": [],
   "source": [
    "# UNIVERSITIES\n",
    "universities = np.random.choice(['University A', 'University B', 'University C'], size=300)"
   ]
  },
  {
   "cell_type": "code",
   "execution_count": 9,
   "id": "48093d67-652f-493c-af6e-69595e77d74b",
   "metadata": {
    "tags": []
   },
   "outputs": [],
   "source": [
    "# GPA\n",
    "cgpa = np.random.uniform(2.0, 4.0, size=300)"
   ]
  },
  {
   "cell_type": "code",
   "execution_count": 10,
   "id": "50f76d57-5c94-4e65-b9ac-a5e1d3d1ec7b",
   "metadata": {
    "tags": []
   },
   "outputs": [],
   "source": [
    "# GENDERS\n",
    "genders = np.random.choice(['Male', 'Female'], size=300)"
   ]
  },
  {
   "cell_type": "code",
   "execution_count": 11,
   "id": "b3924f54-8a9a-4115-88b7-627ffbf5b76e",
   "metadata": {
    "tags": []
   },
   "outputs": [],
   "source": [
    "# ACADEMIC YEARS\n",
    "years = np.random.randint(2018, 2023, size=300)"
   ]
  },
  {
   "cell_type": "code",
   "execution_count": 12,
   "id": "a22d30ff-8050-4b8e-8e52-cb7e3b3d03d3",
   "metadata": {
    "tags": []
   },
   "outputs": [],
   "source": [
    "# UNI TYPE\n",
    "university_types = np.random.choice(['Public', 'Private'], size=300)"
   ]
  },
  {
   "cell_type": "code",
   "execution_count": 13,
   "id": "0dfd13aa-601c-4b32-bb45-bd66c5b7f695",
   "metadata": {
    "tags": []
   },
   "outputs": [],
   "source": [
    "#UNI DEPARTEMENTS\n",
    "departments = np.random.choice(['Physics', 'Chemistry', 'Biology'], size=300)"
   ]
  },
  {
   "cell_type": "code",
   "execution_count": 14,
   "id": "1acf5a6f-12bd-4247-98f8-eb1641a86b2e",
   "metadata": {
    "tags": []
   },
   "outputs": [],
   "source": [
    "#FAMILY INCOMES\n",
    "family_income = np.random.randint(30000, 90001, size=300)"
   ]
  },
  {
   "cell_type": "code",
   "execution_count": 15,
   "id": "4bfef910-7fc0-4ca7-b093-3ed83028ac6a",
   "metadata": {
    "tags": []
   },
   "outputs": [],
   "source": [
    "# EXTRACURRICULAR\n",
    "extracurricular = np.random.choice(['Yes', 'No'], size=300)"
   ]
  },
  {
   "cell_type": "code",
   "execution_count": 16,
   "id": "c1945171-35d1-46f3-8e7b-f0bb408fe53a",
   "metadata": {
    "tags": []
   },
   "outputs": [],
   "source": [
    "#MAKING FILE\n",
    "data = pd.DataFrame({\n",
    "    'name': full_names,\n",
    "    'university': universities,\n",
    "    'cgpa': cgpa,\n",
    "    'gender': genders,\n",
    "    'year': years,\n",
    "    'university_type': university_types,\n",
    "    'department': departments,\n",
    "    'family_income': family_income,\n",
    "    'extracurricular': extracurricular\n",
    "})"
   ]
  },
  {
   "cell_type": "code",
   "execution_count": 17,
   "id": "793ade7e-28f6-433c-9d20-d79b65d55e29",
   "metadata": {
    "tags": []
   },
   "outputs": [],
   "source": [
    "# Specify the file path and name for the CSV file\n",
    "csv_file_path = 'student_data.csv'"
   ]
  },
  {
   "cell_type": "code",
   "execution_count": 18,
   "id": "8796a34a-27c1-4d5b-9003-b93f5e52481f",
   "metadata": {
    "tags": []
   },
   "outputs": [],
   "source": [
    "# Export the DataFrame to CSV\n",
    "data.to_csv(csv_file_path, index=False)"
   ]
  },
  {
   "cell_type": "code",
   "execution_count": 19,
   "id": "d64df286-9ece-4953-82bf-08b6f2abce43",
   "metadata": {
    "tags": []
   },
   "outputs": [],
   "source": [
    "df = pd.read_csv(\"student_data.csv\")"
   ]
  },
  {
   "cell_type": "code",
   "execution_count": 20,
   "id": "0f6434fc-88ec-4e11-bcac-9a487271449b",
   "metadata": {
    "tags": []
   },
   "outputs": [
    {
     "data": {
      "text/html": [
       "<div>\n",
       "<style scoped>\n",
       "    .dataframe tbody tr th:only-of-type {\n",
       "        vertical-align: middle;\n",
       "    }\n",
       "\n",
       "    .dataframe tbody tr th {\n",
       "        vertical-align: top;\n",
       "    }\n",
       "\n",
       "    .dataframe thead th {\n",
       "        text-align: right;\n",
       "    }\n",
       "</style>\n",
       "<table border=\"1\" class=\"dataframe\">\n",
       "  <thead>\n",
       "    <tr style=\"text-align: right;\">\n",
       "      <th></th>\n",
       "      <th>name</th>\n",
       "      <th>university</th>\n",
       "      <th>cgpa</th>\n",
       "      <th>gender</th>\n",
       "      <th>year</th>\n",
       "      <th>university_type</th>\n",
       "      <th>department</th>\n",
       "      <th>family_income</th>\n",
       "      <th>extracurricular</th>\n",
       "    </tr>\n",
       "  </thead>\n",
       "  <tbody>\n",
       "    <tr>\n",
       "      <th>0</th>\n",
       "      <td>Emma Brown</td>\n",
       "      <td>University C</td>\n",
       "      <td>2.730714</td>\n",
       "      <td>Female</td>\n",
       "      <td>2022</td>\n",
       "      <td>Private</td>\n",
       "      <td>Chemistry</td>\n",
       "      <td>82188</td>\n",
       "      <td>Yes</td>\n",
       "    </tr>\n",
       "    <tr>\n",
       "      <th>1</th>\n",
       "      <td>Michael Brown</td>\n",
       "      <td>University A</td>\n",
       "      <td>2.975620</td>\n",
       "      <td>Male</td>\n",
       "      <td>2019</td>\n",
       "      <td>Public</td>\n",
       "      <td>Physics</td>\n",
       "      <td>85099</td>\n",
       "      <td>Yes</td>\n",
       "    </tr>\n",
       "    <tr>\n",
       "      <th>2</th>\n",
       "      <td>Daniel Smith</td>\n",
       "      <td>University C</td>\n",
       "      <td>3.701635</td>\n",
       "      <td>Male</td>\n",
       "      <td>2020</td>\n",
       "      <td>Private</td>\n",
       "      <td>Physics</td>\n",
       "      <td>65262</td>\n",
       "      <td>Yes</td>\n",
       "    </tr>\n",
       "    <tr>\n",
       "      <th>3</th>\n",
       "      <td>Michael Brown</td>\n",
       "      <td>University C</td>\n",
       "      <td>2.175775</td>\n",
       "      <td>Male</td>\n",
       "      <td>2018</td>\n",
       "      <td>Private</td>\n",
       "      <td>Chemistry</td>\n",
       "      <td>42677</td>\n",
       "      <td>No</td>\n",
       "    </tr>\n",
       "    <tr>\n",
       "      <th>4</th>\n",
       "      <td>Michael Lee</td>\n",
       "      <td>University A</td>\n",
       "      <td>3.611730</td>\n",
       "      <td>Female</td>\n",
       "      <td>2020</td>\n",
       "      <td>Public</td>\n",
       "      <td>Physics</td>\n",
       "      <td>81871</td>\n",
       "      <td>Yes</td>\n",
       "    </tr>\n",
       "    <tr>\n",
       "      <th>...</th>\n",
       "      <td>...</td>\n",
       "      <td>...</td>\n",
       "      <td>...</td>\n",
       "      <td>...</td>\n",
       "      <td>...</td>\n",
       "      <td>...</td>\n",
       "      <td>...</td>\n",
       "      <td>...</td>\n",
       "      <td>...</td>\n",
       "    </tr>\n",
       "    <tr>\n",
       "      <th>295</th>\n",
       "      <td>Michael Brown</td>\n",
       "      <td>University A</td>\n",
       "      <td>2.180674</td>\n",
       "      <td>Male</td>\n",
       "      <td>2021</td>\n",
       "      <td>Public</td>\n",
       "      <td>Physics</td>\n",
       "      <td>53387</td>\n",
       "      <td>Yes</td>\n",
       "    </tr>\n",
       "    <tr>\n",
       "      <th>296</th>\n",
       "      <td>Michael Brown</td>\n",
       "      <td>University A</td>\n",
       "      <td>3.541972</td>\n",
       "      <td>Male</td>\n",
       "      <td>2021</td>\n",
       "      <td>Private</td>\n",
       "      <td>Physics</td>\n",
       "      <td>58444</td>\n",
       "      <td>Yes</td>\n",
       "    </tr>\n",
       "    <tr>\n",
       "      <th>297</th>\n",
       "      <td>Daniel Brown</td>\n",
       "      <td>University B</td>\n",
       "      <td>2.136499</td>\n",
       "      <td>Male</td>\n",
       "      <td>2019</td>\n",
       "      <td>Private</td>\n",
       "      <td>Biology</td>\n",
       "      <td>78908</td>\n",
       "      <td>No</td>\n",
       "    </tr>\n",
       "    <tr>\n",
       "      <th>298</th>\n",
       "      <td>Emma Brown</td>\n",
       "      <td>University A</td>\n",
       "      <td>3.674158</td>\n",
       "      <td>Female</td>\n",
       "      <td>2018</td>\n",
       "      <td>Private</td>\n",
       "      <td>Chemistry</td>\n",
       "      <td>49921</td>\n",
       "      <td>Yes</td>\n",
       "    </tr>\n",
       "    <tr>\n",
       "      <th>299</th>\n",
       "      <td>John Brown</td>\n",
       "      <td>University B</td>\n",
       "      <td>2.874387</td>\n",
       "      <td>Female</td>\n",
       "      <td>2020</td>\n",
       "      <td>Private</td>\n",
       "      <td>Chemistry</td>\n",
       "      <td>43057</td>\n",
       "      <td>Yes</td>\n",
       "    </tr>\n",
       "  </tbody>\n",
       "</table>\n",
       "<p>300 rows × 9 columns</p>\n",
       "</div>"
      ],
      "text/plain": [
       "              name    university      cgpa  gender  year university_type  \\\n",
       "0       Emma Brown  University C  2.730714  Female  2022         Private   \n",
       "1    Michael Brown  University A  2.975620    Male  2019          Public   \n",
       "2     Daniel Smith  University C  3.701635    Male  2020         Private   \n",
       "3    Michael Brown  University C  2.175775    Male  2018         Private   \n",
       "4      Michael Lee  University A  3.611730  Female  2020          Public   \n",
       "..             ...           ...       ...     ...   ...             ...   \n",
       "295  Michael Brown  University A  2.180674    Male  2021          Public   \n",
       "296  Michael Brown  University A  3.541972    Male  2021         Private   \n",
       "297   Daniel Brown  University B  2.136499    Male  2019         Private   \n",
       "298     Emma Brown  University A  3.674158  Female  2018         Private   \n",
       "299     John Brown  University B  2.874387  Female  2020         Private   \n",
       "\n",
       "    department  family_income extracurricular  \n",
       "0    Chemistry          82188             Yes  \n",
       "1      Physics          85099             Yes  \n",
       "2      Physics          65262             Yes  \n",
       "3    Chemistry          42677              No  \n",
       "4      Physics          81871             Yes  \n",
       "..         ...            ...             ...  \n",
       "295    Physics          53387             Yes  \n",
       "296    Physics          58444             Yes  \n",
       "297    Biology          78908              No  \n",
       "298  Chemistry          49921             Yes  \n",
       "299  Chemistry          43057             Yes  \n",
       "\n",
       "[300 rows x 9 columns]"
      ]
     },
     "execution_count": 20,
     "metadata": {},
     "output_type": "execute_result"
    }
   ],
   "source": [
    "df"
   ]
  },
  {
   "cell_type": "code",
   "execution_count": 21,
   "id": "d41f24b6-534a-459e-bd6b-dba1b89fef08",
   "metadata": {
    "tags": []
   },
   "outputs": [
    {
     "data": {
      "text/plain": [
       "(300, 9)"
      ]
     },
     "execution_count": 21,
     "metadata": {},
     "output_type": "execute_result"
    }
   ],
   "source": [
    "df.shape"
   ]
  },
  {
   "cell_type": "code",
   "execution_count": 22,
   "id": "7ee76b07-de6e-4e04-85b6-f8da1ccbe19f",
   "metadata": {
    "tags": []
   },
   "outputs": [
    {
     "data": {
      "text/html": [
       "<div>\n",
       "<style scoped>\n",
       "    .dataframe tbody tr th:only-of-type {\n",
       "        vertical-align: middle;\n",
       "    }\n",
       "\n",
       "    .dataframe tbody tr th {\n",
       "        vertical-align: top;\n",
       "    }\n",
       "\n",
       "    .dataframe thead th {\n",
       "        text-align: right;\n",
       "    }\n",
       "</style>\n",
       "<table border=\"1\" class=\"dataframe\">\n",
       "  <thead>\n",
       "    <tr style=\"text-align: right;\">\n",
       "      <th></th>\n",
       "      <th>cgpa</th>\n",
       "      <th>year</th>\n",
       "      <th>family_income</th>\n",
       "    </tr>\n",
       "  </thead>\n",
       "  <tbody>\n",
       "    <tr>\n",
       "      <th>count</th>\n",
       "      <td>300.000000</td>\n",
       "      <td>300.000000</td>\n",
       "      <td>300.000000</td>\n",
       "    </tr>\n",
       "    <tr>\n",
       "      <th>mean</th>\n",
       "      <td>3.046851</td>\n",
       "      <td>2020.046667</td>\n",
       "      <td>62391.706667</td>\n",
       "    </tr>\n",
       "    <tr>\n",
       "      <th>std</th>\n",
       "      <td>0.553703</td>\n",
       "      <td>1.391982</td>\n",
       "      <td>16669.541224</td>\n",
       "    </tr>\n",
       "    <tr>\n",
       "      <th>min</th>\n",
       "      <td>2.005422</td>\n",
       "      <td>2018.000000</td>\n",
       "      <td>30163.000000</td>\n",
       "    </tr>\n",
       "    <tr>\n",
       "      <th>25%</th>\n",
       "      <td>2.614703</td>\n",
       "      <td>2019.000000</td>\n",
       "      <td>50572.000000</td>\n",
       "    </tr>\n",
       "    <tr>\n",
       "      <th>50%</th>\n",
       "      <td>3.070106</td>\n",
       "      <td>2020.000000</td>\n",
       "      <td>61212.000000</td>\n",
       "    </tr>\n",
       "    <tr>\n",
       "      <th>75%</th>\n",
       "      <td>3.531924</td>\n",
       "      <td>2021.000000</td>\n",
       "      <td>76852.500000</td>\n",
       "    </tr>\n",
       "    <tr>\n",
       "      <th>max</th>\n",
       "      <td>3.995385</td>\n",
       "      <td>2022.000000</td>\n",
       "      <td>89945.000000</td>\n",
       "    </tr>\n",
       "  </tbody>\n",
       "</table>\n",
       "</div>"
      ],
      "text/plain": [
       "             cgpa         year  family_income\n",
       "count  300.000000   300.000000     300.000000\n",
       "mean     3.046851  2020.046667   62391.706667\n",
       "std      0.553703     1.391982   16669.541224\n",
       "min      2.005422  2018.000000   30163.000000\n",
       "25%      2.614703  2019.000000   50572.000000\n",
       "50%      3.070106  2020.000000   61212.000000\n",
       "75%      3.531924  2021.000000   76852.500000\n",
       "max      3.995385  2022.000000   89945.000000"
      ]
     },
     "execution_count": 22,
     "metadata": {},
     "output_type": "execute_result"
    }
   ],
   "source": [
    "df.describe()"
   ]
  },
  {
   "cell_type": "code",
   "execution_count": 24,
   "id": "99e3bce1-e3fc-492a-896c-27df0ba925ff",
   "metadata": {
    "tags": []
   },
   "outputs": [
    {
     "name": "stdout",
     "output_type": "stream",
     "text": [
      "<class 'pandas.core.frame.DataFrame'>\n",
      "RangeIndex: 300 entries, 0 to 299\n",
      "Data columns (total 9 columns):\n",
      " #   Column           Non-Null Count  Dtype  \n",
      "---  ------           --------------  -----  \n",
      " 0   name             300 non-null    object \n",
      " 1   university       300 non-null    object \n",
      " 2   cgpa             300 non-null    float64\n",
      " 3   gender           300 non-null    object \n",
      " 4   year             300 non-null    int64  \n",
      " 5   university_type  300 non-null    object \n",
      " 6   department       300 non-null    object \n",
      " 7   family_income    300 non-null    int64  \n",
      " 8   extracurricular  300 non-null    object \n",
      "dtypes: float64(1), int64(2), object(6)\n",
      "memory usage: 21.2+ KB\n"
     ]
    }
   ],
   "source": [
    "df.info()"
   ]
  },
  {
   "cell_type": "code",
   "execution_count": 25,
   "id": "32815043-c1f2-4ac6-ae25-a21cabbcbc26",
   "metadata": {
    "tags": []
   },
   "outputs": [
    {
     "data": {
      "text/plain": [
       "name               0\n",
       "university         0\n",
       "cgpa               0\n",
       "gender             0\n",
       "year               0\n",
       "university_type    0\n",
       "department         0\n",
       "family_income      0\n",
       "extracurricular    0\n",
       "dtype: int64"
      ]
     },
     "execution_count": 25,
     "metadata": {},
     "output_type": "execute_result"
    }
   ],
   "source": [
    "df.isnull().sum()"
   ]
  },
  {
   "cell_type": "code",
   "execution_count": 27,
   "id": "081f7956-37e0-4a76-8228-163e4eb225b3",
   "metadata": {
    "tags": []
   },
   "outputs": [
    {
     "data": {
      "text/plain": [
       "0"
      ]
     },
     "execution_count": 27,
     "metadata": {},
     "output_type": "execute_result"
    }
   ],
   "source": [
    "df.duplicated().sum()"
   ]
  },
  {
   "cell_type": "markdown",
   "id": "305fa3d7-21aa-4364-a29d-6662c51a1f20",
   "metadata": {},
   "source": [
    "# Task :01\n",
    "Here are 30 data science questions that you can explore using your dataset of 300 students with columns for name, university, and CGPA:"
   ]
  },
  {
   "cell_type": "markdown",
   "id": "47c50b65-6f4b-4f17-9006-93d86f272cbe",
   "metadata": {},
   "source": [
    "### What are the top 5 universities with the highest average CGPA?"
   ]
  },
  {
   "cell_type": "code",
   "execution_count": 42,
   "id": "13447197-eae6-4a78-9306-5547b74aa1df",
   "metadata": {
    "tags": []
   },
   "outputs": [
    {
     "name": "stdout",
     "output_type": "stream",
     "text": [
      "university\n",
      "University A    3.120098\n",
      "University B    3.021482\n",
      "University C    2.990915\n",
      "Name: cgpa, dtype: float64\n"
     ]
    }
   ],
   "source": [
    "cgpa_average=df.groupby(\"university\")[\"cgpa\"].mean() # getting mean of cgpa in terms of university\n",
    "top_5=cgpa_average.sort_values(ascending=False)   # sorting values in descending order \n",
    "top = top_5.head(5)   \n",
    "print(top)\n"
   ]
  },
  {
   "cell_type": "markdown",
   "id": "8ad38b10-10ff-410e-b311-dd6fb9761372",
   "metadata": {},
   "source": [
    "### Is there a correlation between the CGPA and the length of the student's name?"
   ]
  },
  {
   "cell_type": "code",
   "execution_count": 47,
   "id": "bc504952-65f2-465b-a92c-88916508f4ca",
   "metadata": {
    "tags": []
   },
   "outputs": [],
   "source": [
    "# first find the length of name \n",
    "df[\"name_length\"]= df[\"name\"].apply(len)\n"
   ]
  },
  {
   "cell_type": "code",
   "execution_count": 53,
   "id": "fe8136ca-51ae-466e-a418-f73dacd37e1e",
   "metadata": {
    "tags": []
   },
   "outputs": [
    {
     "name": "stdout",
     "output_type": "stream",
     "text": [
      "Corelation Between CGPA and Length of Student Name: -0.023075514159624794\n"
     ]
    }
   ],
   "source": [
    "# then create corelation between cgpa and name length\n",
    "corealtion = np.corrcoef(df[\"cgpa\"],df[\"name_length\"])[0,1]\n",
    "print(\"Corelation Between CGPA and Length of Student Name:\",corealtion)"
   ]
  },
  {
   "cell_type": "markdown",
   "id": "37f67f6e-a99c-484d-8dd4-f35a8454e653",
   "metadata": {},
   "source": [
    "### How does the CGPA vary across different universities?"
   ]
  },
  {
   "cell_type": "code",
   "execution_count": 55,
   "id": "bb4c3613-83e4-43c9-841c-1f307cd07989",
   "metadata": {
    "tags": []
   },
   "outputs": [
    {
     "data": {
      "text/html": [
       "<div>\n",
       "<style scoped>\n",
       "    .dataframe tbody tr th:only-of-type {\n",
       "        vertical-align: middle;\n",
       "    }\n",
       "\n",
       "    .dataframe tbody tr th {\n",
       "        vertical-align: top;\n",
       "    }\n",
       "\n",
       "    .dataframe thead th {\n",
       "        text-align: right;\n",
       "    }\n",
       "</style>\n",
       "<table border=\"1\" class=\"dataframe\">\n",
       "  <thead>\n",
       "    <tr style=\"text-align: right;\">\n",
       "      <th></th>\n",
       "      <th>count</th>\n",
       "      <th>mean</th>\n",
       "      <th>std</th>\n",
       "      <th>min</th>\n",
       "      <th>25%</th>\n",
       "      <th>50%</th>\n",
       "      <th>75%</th>\n",
       "      <th>max</th>\n",
       "    </tr>\n",
       "    <tr>\n",
       "      <th>university</th>\n",
       "      <th></th>\n",
       "      <th></th>\n",
       "      <th></th>\n",
       "      <th></th>\n",
       "      <th></th>\n",
       "      <th></th>\n",
       "      <th></th>\n",
       "      <th></th>\n",
       "    </tr>\n",
       "  </thead>\n",
       "  <tbody>\n",
       "    <tr>\n",
       "      <th>University A</th>\n",
       "      <td>106.0</td>\n",
       "      <td>3.120098</td>\n",
       "      <td>0.541966</td>\n",
       "      <td>2.036485</td>\n",
       "      <td>2.728752</td>\n",
       "      <td>3.164554</td>\n",
       "      <td>3.584799</td>\n",
       "      <td>3.981859</td>\n",
       "    </tr>\n",
       "    <tr>\n",
       "      <th>University B</th>\n",
       "      <td>101.0</td>\n",
       "      <td>3.021482</td>\n",
       "      <td>0.580041</td>\n",
       "      <td>2.010600</td>\n",
       "      <td>2.454791</td>\n",
       "      <td>3.070073</td>\n",
       "      <td>3.535559</td>\n",
       "      <td>3.950134</td>\n",
       "    </tr>\n",
       "    <tr>\n",
       "      <th>University C</th>\n",
       "      <td>93.0</td>\n",
       "      <td>2.990915</td>\n",
       "      <td>0.534249</td>\n",
       "      <td>2.005422</td>\n",
       "      <td>2.555174</td>\n",
       "      <td>2.981498</td>\n",
       "      <td>3.452191</td>\n",
       "      <td>3.995385</td>\n",
       "    </tr>\n",
       "  </tbody>\n",
       "</table>\n",
       "</div>"
      ],
      "text/plain": [
       "              count      mean       std       min       25%       50%  \\\n",
       "university                                                              \n",
       "University A  106.0  3.120098  0.541966  2.036485  2.728752  3.164554   \n",
       "University B  101.0  3.021482  0.580041  2.010600  2.454791  3.070073   \n",
       "University C   93.0  2.990915  0.534249  2.005422  2.555174  2.981498   \n",
       "\n",
       "                   75%       max  \n",
       "university                        \n",
       "University A  3.584799  3.981859  \n",
       "University B  3.535559  3.950134  \n",
       "University C  3.452191  3.995385  "
      ]
     },
     "execution_count": 55,
     "metadata": {},
     "output_type": "execute_result"
    }
   ],
   "source": [
    "cgpa_stats= df.groupby(\"university\")[\"cgpa\"].describe()\n",
    "cgpa_stats"
   ]
  },
  {
   "cell_type": "code",
   "execution_count": 56,
   "id": "e915e26b-bfb7-4831-82f9-af3eaeda9237",
   "metadata": {
    "tags": []
   },
   "outputs": [
    {
     "data": {
      "image/png": "[encoded data removed]",
      "text/plain": [
       "<Figure size 1000x600 with 1 Axes>"
      ]
     },
     "metadata": {},
     "output_type": "display_data"
    }
   ],
   "source": [
    "# Plot a boxplot to visualize the CGPA distribution across universities\n",
    "plt.figure(figsize=(10, 6))\n",
    "plt.boxplot([df[df['university'] == uni]['cgpa'] for uni in df['university'].unique()], labels=df['university'].unique())\n",
    "plt.xlabel('University')\n",
    "plt.ylabel('CGPA')\n",
    "plt.title('CGPA Variation across Universities')\n",
    "plt.show()"
   ]
  },
  {
   "cell_type": "markdown",
   "id": "79647cbc-4f59-4016-90b5-886aa76e951e",
   "metadata": {},
   "source": [
    "### Can we predict a student's CGPA based on the length of their name using linear regression?"
   ]
  },
  {
   "cell_type": "code",
   "execution_count": 57,
   "id": "f361c6d8-d8f0-4337-9b4c-5418d5e7e1a1",
   "metadata": {
    "tags": []
   },
   "outputs": [],
   "source": [
    "import pandas as pd\n",
    "from sklearn.linear_model import LinearRegression\n",
    "from sklearn.model_selection import train_test_split\n",
    "from sklearn.metrics import mean_squared_error"
   ]
  },
  {
   "cell_type": "code",
   "execution_count": 58,
   "id": "ed49a95b-2ea4-49b4-a8f7-fe1064507518",
   "metadata": {
    "tags": []
   },
   "outputs": [],
   "source": [
    "# Define the features (independent variable) and target (dependent variable)\n",
    "X = df['name_length'].values.reshape(-1, 1)\n",
    "y = df['cgpa'].values"
   ]
  },
  {
   "cell_type": "code",
   "execution_count": 59,
   "id": "70861426-8f64-45f3-8e28-4397dee5ffc3",
   "metadata": {
    "tags": []
   },
   "outputs": [],
   "source": [
    "# Split the data into training and testing sets\n",
    "X_train, X_test, y_train, y_test = train_test_split(X, y, test_size=0.2, random_state=42)\n"
   ]
  },
  {
   "cell_type": "code",
   "execution_count": 60,
   "id": "0f182625-98e1-449c-99c5-e3c88cc16ab1",
   "metadata": {
    "tags": []
   },
   "outputs": [
    {
     "data": {
      "text/html": [
       "<style>#sk-container-id-1 {color: black;background-color: white;}#sk-container-id-1 pre{padding: 0;}#sk-container-id-1 div.sk-toggleable {background-color: white;}#sk-container-id-1 label.sk-toggleable__label {cursor: pointer;display: block;width: 100%;margin-bottom: 0;padding: 0.3em;box-sizing: border-box;text-align: center;}#sk-container-id-1 label.sk-toggleable__label-arrow:before {content: \"▸\";float: left;margin-right: 0.25em;color: #696969;}#sk-container-id-1 label.sk-toggleable__label-arrow:hover:before {color: black;}#sk-container-id-1 div.sk-estimator:hover label.sk-toggleable__label-arrow:before {color: black;}#sk-container-id-1 div.sk-toggleable__content {max-height: 0;max-width: 0;overflow: hidden;text-align: left;background-color: #f0f8ff;}#sk-container-id-1 div.sk-toggleable__content pre {margin: 0.2em;color: black;border-radius: 0.25em;background-color: #f0f8ff;}#sk-container-id-1 input.sk-toggleable__control:checked~div.sk-toggleable__content {max-height: 200px;max-width: 100%;overflow: auto;}#sk-container-id-1 input.sk-toggleable__control:checked~label.sk-toggleable__label-arrow:before {content: \"▾\";}#sk-container-id-1 div.sk-estimator input.sk-toggleable__control:checked~label.sk-toggleable__label {background-color: #d4ebff;}#sk-container-id-1 div.sk-label input.sk-toggleable__control:checked~label.sk-toggleable__label {background-color: #d4ebff;}#sk-container-id-1 input.sk-hidden--visually {border: 0;clip: rect(1px 1px 1px 1px);clip: rect(1px, 1px, 1px, 1px);height: 1px;margin: -1px;overflow: hidden;padding: 0;position: absolute;width: 1px;}#sk-container-id-1 div.sk-estimator {font-family: monospace;background-color: #f0f8ff;border: 1px dotted black;border-radius: 0.25em;box-sizing: border-box;margin-bottom: 0.5em;}#sk-container-id-1 div.sk-estimator:hover {background-color: #d4ebff;}#sk-container-id-1 div.sk-parallel-item::after {content: \"\";width: 100%;border-bottom: 1px solid gray;flex-grow: 1;}#sk-container-id-1 div.sk-label:hover label.sk-toggleable__label {background-color: #d4ebff;}#sk-container-id-1 div.sk-serial::before {content: \"\";position: absolute;border-left: 1px solid gray;box-sizing: border-box;top: 0;bottom: 0;left: 50%;z-index: 0;}#sk-container-id-1 div.sk-serial {display: flex;flex-direction: column;align-items: center;background-color: white;padding-right: 0.2em;padding-left: 0.2em;position: relative;}#sk-container-id-1 div.sk-item {position: relative;z-index: 1;}#sk-container-id-1 div.sk-parallel {display: flex;align-items: stretch;justify-content: center;background-color: white;position: relative;}#sk-container-id-1 div.sk-item::before, #sk-container-id-1 div.sk-parallel-item::before {content: \"\";position: absolute;border-left: 1px solid gray;box-sizing: border-box;top: 0;bottom: 0;left: 50%;z-index: -1;}#sk-container-id-1 div.sk-parallel-item {display: flex;flex-direction: column;z-index: 1;position: relative;background-color: white;}#sk-container-id-1 div.sk-parallel-item:first-child::after {align-self: flex-end;width: 50%;}#sk-container-id-1 div.sk-parallel-item:last-child::after {align-self: flex-start;width: 50%;}#sk-container-id-1 div.sk-parallel-item:only-child::after {width: 0;}#sk-container-id-1 div.sk-dashed-wrapped {border: 1px dashed gray;margin: 0 0.4em 0.5em 0.4em;box-sizing: border-box;padding-bottom: 0.4em;background-color: white;}#sk-container-id-1 div.sk-label label {font-family: monospace;font-weight: bold;display: inline-block;line-height: 1.2em;}#sk-container-id-1 div.sk-label-container {text-align: center;}#sk-container-id-1 div.sk-container {/* jupyter's `normalize.less` sets `[hidden] { display: none; }` but bootstrap.min.css set `[hidden] { display: none !important; }` so we also need the `!important` here to be able to override the default hidden behavior on the sphinx rendered scikit-learn.org. See: https://github.com/scikit-learn/scikit-learn/issues/21755 */display: inline-block !important;position: relative;}#sk-container-id-1 div.sk-text-repr-fallback {display: none;}</style><div id=\"sk-container-id-1\" class=\"sk-top-container\"><div class=\"sk-text-repr-fallback\"><pre>LinearRegression()</pre><b>In a Jupyter environment, please rerun this cell to show the HTML representation or trust the notebook. <br />On GitHub, the HTML representation is unable to render, please try loading this page with nbviewer.org.</b></div><div class=\"sk-container\" hidden><div class=\"sk-item\"><div class=\"sk-estimator sk-toggleable\"><input class=\"sk-toggleable__control sk-hidden--visually\" id=\"sk-estimator-id-1\" type=\"checkbox\" checked><label for=\"sk-estimator-id-1\" class=\"sk-toggleable__label sk-toggleable__label-arrow\">LinearRegression</label><div class=\"sk-toggleable__content\"><pre>LinearRegression()</pre></div></div></div></div></div>"
      ],
      "text/plain": [
       "LinearRegression()"
      ]
     },
     "execution_count": 60,
     "metadata": {},
     "output_type": "execute_result"
    }
   ],
   "source": [
    "# Create and train the linear regression model\n",
    "model = LinearRegression()\n",
    "model.fit(X_train, y_train)"
   ]
  },
  {
   "cell_type": "code",
   "execution_count": 61,
   "id": "7b39a098-f84e-418e-ac16-0356c83f6e1a",
   "metadata": {
    "tags": []
   },
   "outputs": [],
   "source": [
    "# Predict CGPA for the test set\n",
    "y_pred = model.predict(X_test)"
   ]
  },
  {
   "cell_type": "code",
   "execution_count": 62,
   "id": "6757286b-da3c-4c72-8376-daeb6fdedc9b",
   "metadata": {
    "tags": []
   },
   "outputs": [
    {
     "name": "stdout",
     "output_type": "stream",
     "text": [
      "Mean Squared Error: 0.3291595832912133\n"
     ]
    }
   ],
   "source": [
    "# Evaluate the model using mean squared error\n",
    "mse = mean_squared_error(y_test, y_pred)\n",
    "print(\"Mean Squared Error:\",mse)"
   ]
  },
  {
   "cell_type": "markdown",
   "id": "633672ae-4b73-4975-bb5d-d4169442867c",
   "metadata": {},
   "source": [
    "### Which university has the highest number of students with a CGPA above a certain threshold?"
   ]
  },
  {
   "cell_type": "code",
   "execution_count": 63,
   "id": "36501727-36c5-466c-9455-0f5bd6497f15",
   "metadata": {
    "tags": []
   },
   "outputs": [],
   "source": [
    "# Specify the CGPA threshold\n",
    "cgpa_threshold = 3.5"
   ]
  },
  {
   "cell_type": "code",
   "execution_count": 64,
   "id": "5c3ec41e-5fd7-4576-b957-cacaa135dc43",
   "metadata": {
    "tags": []
   },
   "outputs": [],
   "source": [
    "# Filter the DataFrame to include only students above the CGPA threshold\n",
    "filtered_df = df[df['cgpa'] > cgpa_threshold]"
   ]
  },
  {
   "cell_type": "code",
   "execution_count": 65,
   "id": "a04bd74e-7a96-4d52-8996-f710c21ae50a",
   "metadata": {
    "tags": []
   },
   "outputs": [],
   "source": [
    "# Group the filtered DataFrame by university and count the number of students\n",
    "university_counts = filtered_df['university'].value_counts()\n"
   ]
  },
  {
   "cell_type": "code",
   "execution_count": 71,
   "id": "ef95eb61-5838-4758-83d1-8e8b69fa2b6f",
   "metadata": {
    "tags": []
   },
   "outputs": [
    {
     "name": "stdout",
     "output_type": "stream",
     "text": [
      " University A Highest Count: 31\n"
     ]
    }
   ],
   "source": [
    "# Get the university with the highest number of students above the threshold\n",
    "university_with_highest_count = university_counts.idxmax()\n",
    "highest_count = university_counts.max()\n",
    "print(\"\",university_with_highest_count,\"Highest Count:\",highest_count)"
   ]
  },
  {
   "cell_type": "markdown",
   "id": "400885d6-bb65-4fc7-bd4b-5fefd0936557",
   "metadata": {},
   "source": [
    "### Can we identify any outliers in the CGPA distribution within each university?"
   ]
  },
  {
   "cell_type": "code",
   "execution_count": 72,
   "id": "3de56f93-062e-4f30-a754-3cc7743b87b5",
   "metadata": {
    "tags": []
   },
   "outputs": [],
   "source": [
    "import seaborn as sns"
   ]
  },
  {
   "cell_type": "code",
   "execution_count": 73,
   "id": "14a428f5-0844-4167-896d-412d574b0229",
   "metadata": {
    "tags": []
   },
   "outputs": [
    {
     "data": {
      "image/png": "[encoded data removed]",
      "text/plain": [
       "<Figure size 1000x600 with 1 Axes>"
      ]
     },
     "metadata": {},
     "output_type": "display_data"
    }
   ],
   "source": [
    "# Set the figure size\n",
    "plt.figure(figsize=(10, 6))\n",
    "# Create a boxplot to visualize the CGPA distribution by university\n",
    "sns.boxplot(x='university', y='cgpa', data=df)\n",
    "# Set the title and labels\n",
    "plt.title('CGPA Distribution by University')\n",
    "plt.xlabel('University')\n",
    "plt.ylabel('CGPA')\n",
    "\n",
    "# Display the plot\n",
    "plt.show()"
   ]
  },
  {
   "cell_type": "markdown",
   "id": "35b01978-052e-4a37-91c7-5a3f7372de14",
   "metadata": {},
   "source": [
    "### How many male and female students are there in each university?"
   ]
  },
  {
   "cell_type": "code",
   "execution_count": 74,
   "id": "de74bd46-1729-4957-b8f3-cda7a0147441",
   "metadata": {
    "tags": []
   },
   "outputs": [
    {
     "data": {
      "text/html": [
       "<div>\n",
       "<style scoped>\n",
       "    .dataframe tbody tr th:only-of-type {\n",
       "        vertical-align: middle;\n",
       "    }\n",
       "\n",
       "    .dataframe tbody tr th {\n",
       "        vertical-align: top;\n",
       "    }\n",
       "\n",
       "    .dataframe thead th {\n",
       "        text-align: right;\n",
       "    }\n",
       "</style>\n",
       "<table border=\"1\" class=\"dataframe\">\n",
       "  <thead>\n",
       "    <tr style=\"text-align: right;\">\n",
       "      <th></th>\n",
       "      <th>name</th>\n",
       "      <th>university</th>\n",
       "      <th>cgpa</th>\n",
       "      <th>gender</th>\n",
       "      <th>year</th>\n",
       "      <th>university_type</th>\n",
       "      <th>department</th>\n",
       "      <th>family_income</th>\n",
       "      <th>extracurricular</th>\n",
       "      <th>name_length</th>\n",
       "    </tr>\n",
       "  </thead>\n",
       "  <tbody>\n",
       "    <tr>\n",
       "      <th>0</th>\n",
       "      <td>Emma Brown</td>\n",
       "      <td>University C</td>\n",
       "      <td>2.730714</td>\n",
       "      <td>Female</td>\n",
       "      <td>2022</td>\n",
       "      <td>Private</td>\n",
       "      <td>Chemistry</td>\n",
       "      <td>82188</td>\n",
       "      <td>Yes</td>\n",
       "      <td>10</td>\n",
       "    </tr>\n",
       "    <tr>\n",
       "      <th>1</th>\n",
       "      <td>Michael Brown</td>\n",
       "      <td>University A</td>\n",
       "      <td>2.975620</td>\n",
       "      <td>Male</td>\n",
       "      <td>2019</td>\n",
       "      <td>Public</td>\n",
       "      <td>Physics</td>\n",
       "      <td>85099</td>\n",
       "      <td>Yes</td>\n",
       "      <td>13</td>\n",
       "    </tr>\n",
       "    <tr>\n",
       "      <th>2</th>\n",
       "      <td>Daniel Smith</td>\n",
       "      <td>University C</td>\n",
       "      <td>3.701635</td>\n",
       "      <td>Male</td>\n",
       "      <td>2020</td>\n",
       "      <td>Private</td>\n",
       "      <td>Physics</td>\n",
       "      <td>65262</td>\n",
       "      <td>Yes</td>\n",
       "      <td>12</td>\n",
       "    </tr>\n",
       "    <tr>\n",
       "      <th>3</th>\n",
       "      <td>Michael Brown</td>\n",
       "      <td>University C</td>\n",
       "      <td>2.175775</td>\n",
       "      <td>Male</td>\n",
       "      <td>2018</td>\n",
       "      <td>Private</td>\n",
       "      <td>Chemistry</td>\n",
       "      <td>42677</td>\n",
       "      <td>No</td>\n",
       "      <td>13</td>\n",
       "    </tr>\n",
       "    <tr>\n",
       "      <th>4</th>\n",
       "      <td>Michael Lee</td>\n",
       "      <td>University A</td>\n",
       "      <td>3.611730</td>\n",
       "      <td>Female</td>\n",
       "      <td>2020</td>\n",
       "      <td>Public</td>\n",
       "      <td>Physics</td>\n",
       "      <td>81871</td>\n",
       "      <td>Yes</td>\n",
       "      <td>11</td>\n",
       "    </tr>\n",
       "  </tbody>\n",
       "</table>\n",
       "</div>"
      ],
      "text/plain": [
       "            name    university      cgpa  gender  year university_type  \\\n",
       "0     Emma Brown  University C  2.730714  Female  2022         Private   \n",
       "1  Michael Brown  University A  2.975620    Male  2019          Public   \n",
       "2   Daniel Smith  University C  3.701635    Male  2020         Private   \n",
       "3  Michael Brown  University C  2.175775    Male  2018         Private   \n",
       "4    Michael Lee  University A  3.611730  Female  2020          Public   \n",
       "\n",
       "  department  family_income extracurricular  name_length  \n",
       "0  Chemistry          82188             Yes           10  \n",
       "1    Physics          85099             Yes           13  \n",
       "2    Physics          65262             Yes           12  \n",
       "3  Chemistry          42677              No           13  \n",
       "4    Physics          81871             Yes           11  "
      ]
     },
     "execution_count": 74,
     "metadata": {},
     "output_type": "execute_result"
    }
   ],
   "source": [
    "df.head()"
   ]
  },
  {
   "cell_type": "code",
   "execution_count": 75,
   "id": "330adfb8-d575-4520-a9bb-b3e2770067c9",
   "metadata": {
    "tags": []
   },
   "outputs": [
    {
     "data": {
      "text/plain": [
       "0    Female\n",
       "1      Male\n",
       "2      Male\n",
       "3      Male\n",
       "4    Female\n",
       "Name: gender, dtype: object"
      ]
     },
     "execution_count": 75,
     "metadata": {},
     "output_type": "execute_result"
    }
   ],
   "source": [
    "df[\"gender\"].head()"
   ]
  },
  {
   "cell_type": "code",
   "execution_count": 79,
   "id": "49d13a95-7249-48a1-b461-5cd0c2cadfba",
   "metadata": {
    "tags": []
   },
   "outputs": [
    {
     "data": {
      "text/plain": [
       "university    gender\n",
       "University A  Male      57\n",
       "              Female    49\n",
       "University B  Male      54\n",
       "              Female    47\n",
       "University C  Male      53\n",
       "              Female    40\n",
       "Name: gender, dtype: int64"
      ]
     },
     "execution_count": 79,
     "metadata": {},
     "output_type": "execute_result"
    }
   ],
   "source": [
    "male = df.groupby(\"university\")[\"gender\"].value_counts()\n",
    "male"
   ]
  },
  {
   "cell_type": "markdown",
   "id": "e7bcda2f-7d8f-4bca-ad18-31ea76ec94c0",
   "metadata": {},
   "source": [
    "### Can we cluster students based on their CGPA using k-means clustering?"
   ]
  },
  {
   "cell_type": "code",
   "execution_count": 83,
   "id": "1b033c1c-8779-4441-9316-909cf2814c2e",
   "metadata": {
    "tags": []
   },
   "outputs": [],
   "source": [
    "from sklearn.cluster import KMeans"
   ]
  },
  {
   "cell_type": "code",
   "execution_count": 84,
   "id": "41aabb46-f6d2-43ca-9435-8d746f4fe807",
   "metadata": {
    "tags": []
   },
   "outputs": [],
   "source": [
    "# Extract the CGPA values as the feature for clustering\n",
    "X = df[['cgpa']].values"
   ]
  },
  {
   "cell_type": "code",
   "execution_count": 85,
   "id": "705dff84-9b10-4ebd-83f6-035376c1461d",
   "metadata": {
    "tags": []
   },
   "outputs": [],
   "source": [
    "# Specify the number of clusters (k)\n",
    "k = 3"
   ]
  },
  {
   "cell_type": "code",
   "execution_count": 86,
   "id": "102b6f89-3394-4926-9239-3808ce5e36f3",
   "metadata": {
    "tags": []
   },
   "outputs": [
    {
     "name": "stderr",
     "output_type": "stream",
     "text": [
      "C:\\Users\\Syed Muqtasid Ali\\anaconda3\\lib\\site-packages\\sklearn\\cluster\\_kmeans.py:870: FutureWarning: The default value of `n_init` will change from 10 to 'auto' in 1.4. Set the value of `n_init` explicitly to suppress the warning\n",
      "  warnings.warn(\n",
      "C:\\Users\\Syed Muqtasid Ali\\anaconda3\\lib\\site-packages\\sklearn\\cluster\\_kmeans.py:1382: UserWarning: KMeans is known to have a memory leak on Windows with MKL, when there are less chunks than available threads. You can avoid it by setting the environment variable OMP_NUM_THREADS=2.\n",
      "  warnings.warn(\n"
     ]
    },
    {
     "data": {
      "text/html": [
       "<style>#sk-container-id-2 {color: black;background-color: white;}#sk-container-id-2 pre{padding: 0;}#sk-container-id-2 div.sk-toggleable {background-color: white;}#sk-container-id-2 label.sk-toggleable__label {cursor: pointer;display: block;width: 100%;margin-bottom: 0;padding: 0.3em;box-sizing: border-box;text-align: center;}#sk-container-id-2 label.sk-toggleable__label-arrow:before {content: \"▸\";float: left;margin-right: 0.25em;color: #696969;}#sk-container-id-2 label.sk-toggleable__label-arrow:hover:before {color: black;}#sk-container-id-2 div.sk-estimator:hover label.sk-toggleable__label-arrow:before {color: black;}#sk-container-id-2 div.sk-toggleable__content {max-height: 0;max-width: 0;overflow: hidden;text-align: left;background-color: #f0f8ff;}#sk-container-id-2 div.sk-toggleable__content pre {margin: 0.2em;color: black;border-radius: 0.25em;background-color: #f0f8ff;}#sk-container-id-2 input.sk-toggleable__control:checked~div.sk-toggleable__content {max-height: 200px;max-width: 100%;overflow: auto;}#sk-container-id-2 input.sk-toggleable__control:checked~label.sk-toggleable__label-arrow:before {content: \"▾\";}#sk-container-id-2 div.sk-estimator input.sk-toggleable__control:checked~label.sk-toggleable__label {background-color: #d4ebff;}#sk-container-id-2 div.sk-label input.sk-toggleable__control:checked~label.sk-toggleable__label {background-color: #d4ebff;}#sk-container-id-2 input.sk-hidden--visually {border: 0;clip: rect(1px 1px 1px 1px);clip: rect(1px, 1px, 1px, 1px);height: 1px;margin: -1px;overflow: hidden;padding: 0;position: absolute;width: 1px;}#sk-container-id-2 div.sk-estimator {font-family: monospace;background-color: #f0f8ff;border: 1px dotted black;border-radius: 0.25em;box-sizing: border-box;margin-bottom: 0.5em;}#sk-container-id-2 div.sk-estimator:hover {background-color: #d4ebff;}#sk-container-id-2 div.sk-parallel-item::after {content: \"\";width: 100%;border-bottom: 1px solid gray;flex-grow: 1;}#sk-container-id-2 div.sk-label:hover label.sk-toggleable__label {background-color: #d4ebff;}#sk-container-id-2 div.sk-serial::before {content: \"\";position: absolute;border-left: 1px solid gray;box-sizing: border-box;top: 0;bottom: 0;left: 50%;z-index: 0;}#sk-container-id-2 div.sk-serial {display: flex;flex-direction: column;align-items: center;background-color: white;padding-right: 0.2em;padding-left: 0.2em;position: relative;}#sk-container-id-2 div.sk-item {position: relative;z-index: 1;}#sk-container-id-2 div.sk-parallel {display: flex;align-items: stretch;justify-content: center;background-color: white;position: relative;}#sk-container-id-2 div.sk-item::before, #sk-container-id-2 div.sk-parallel-item::before {content: \"\";position: absolute;border-left: 1px solid gray;box-sizing: border-box;top: 0;bottom: 0;left: 50%;z-index: -1;}#sk-container-id-2 div.sk-parallel-item {display: flex;flex-direction: column;z-index: 1;position: relative;background-color: white;}#sk-container-id-2 div.sk-parallel-item:first-child::after {align-self: flex-end;width: 50%;}#sk-container-id-2 div.sk-parallel-item:last-child::after {align-self: flex-start;width: 50%;}#sk-container-id-2 div.sk-parallel-item:only-child::after {width: 0;}#sk-container-id-2 div.sk-dashed-wrapped {border: 1px dashed gray;margin: 0 0.4em 0.5em 0.4em;box-sizing: border-box;padding-bottom: 0.4em;background-color: white;}#sk-container-id-2 div.sk-label label {font-family: monospace;font-weight: bold;display: inline-block;line-height: 1.2em;}#sk-container-id-2 div.sk-label-container {text-align: center;}#sk-container-id-2 div.sk-container {/* jupyter's `normalize.less` sets `[hidden] { display: none; }` but bootstrap.min.css set `[hidden] { display: none !important; }` so we also need the `!important` here to be able to override the default hidden behavior on the sphinx rendered scikit-learn.org. See: https://github.com/scikit-learn/scikit-learn/issues/21755 */display: inline-block !important;position: relative;}#sk-container-id-2 div.sk-text-repr-fallback {display: none;}</style><div id=\"sk-container-id-2\" class=\"sk-top-container\"><div class=\"sk-text-repr-fallback\"><pre>KMeans(n_clusters=3, random_state=42)</pre><b>In a Jupyter environment, please rerun this cell to show the HTML representation or trust the notebook. <br />On GitHub, the HTML representation is unable to render, please try loading this page with nbviewer.org.</b></div><div class=\"sk-container\" hidden><div class=\"sk-item\"><div class=\"sk-estimator sk-toggleable\"><input class=\"sk-toggleable__control sk-hidden--visually\" id=\"sk-estimator-id-2\" type=\"checkbox\" checked><label for=\"sk-estimator-id-2\" class=\"sk-toggleable__label sk-toggleable__label-arrow\">KMeans</label><div class=\"sk-toggleable__content\"><pre>KMeans(n_clusters=3, random_state=42)</pre></div></div></div></div></div>"
      ],
      "text/plain": [
       "KMeans(n_clusters=3, random_state=42)"
      ]
     },
     "execution_count": 86,
     "metadata": {},
     "output_type": "execute_result"
    }
   ],
   "source": [
    "# Create and fit the k-means clustering model\n",
    "kmeans = KMeans(n_clusters=k, random_state=42)\n",
    "kmeans.fit(X)"
   ]
  },
  {
   "cell_type": "code",
   "execution_count": 87,
   "id": "e132bbce-2d2a-45ba-b0be-d7e87449c785",
   "metadata": {
    "tags": []
   },
   "outputs": [],
   "source": [
    "# Assign the cluster labels to each data point\n",
    "cluster_labels = kmeans.labels_\n"
   ]
  },
  {
   "cell_type": "code",
   "execution_count": 88,
   "id": "93a7f236-3850-4555-8f33-6903de9373e6",
   "metadata": {
    "tags": []
   },
   "outputs": [],
   "source": [
    "# Add the cluster labels to the DataFrame\n",
    "df['cluster'] = cluster_labels"
   ]
  },
  {
   "cell_type": "code",
   "execution_count": 89,
   "id": "8d492654-b787-4d8e-aab2-28a90f113047",
   "metadata": {
    "tags": []
   },
   "outputs": [
    {
     "data": {
      "image/png": "[encoded data removed]",
      "text/plain": [
       "<Figure size 640x480 with 1 Axes>"
      ]
     },
     "metadata": {},
     "output_type": "display_data"
    }
   ],
   "source": [
    "# Visualize the clusters\n",
    "plt.scatter(X[:, 0], [0] * len(X), c=cluster_labels)\n",
    "plt.xlabel('CGPA')\n",
    "plt.title('K-means Clustering of Students based on CGPA')\n",
    "plt.show()"
   ]
  },
  {
   "cell_type": "markdown",
   "id": "60a776ca-f343-4fee-964d-5253a259bb77",
   "metadata": {},
   "source": [
    "### What is the average CGPA for each cluster identified in the previous question?"
   ]
  },
  {
   "cell_type": "code",
   "execution_count": 91,
   "id": "86a20467-6cf6-413e-bf0e-c4f4b6864f21",
   "metadata": {
    "tags": []
   },
   "outputs": [
    {
     "name": "stdout",
     "output_type": "stream",
     "text": [
      "cluster\n",
      "1.003333    3.046851\n",
      "Name: cgpa, dtype: float64\n"
     ]
    }
   ],
   "source": [
    "# Calculate the average CGPA for each cluster\n",
    "average_cgpa_by_cluster = df.groupby('cluster')['cgpa'].mean()\n",
    "print(average_cgpa_by_cluster)"
   ]
  },
  {
   "cell_type": "markdown",
   "id": "00bf016f-1a37-4a21-828b-36b978bef786",
   "metadata": {},
   "source": [
    "### Can we classify students into universities based on their CGPA using a decision tree?"
   ]
  },
  {
   "cell_type": "code",
   "execution_count": 92,
   "id": "e8cf15a7-390d-45d1-bd01-a64e2afc4742",
   "metadata": {
    "tags": []
   },
   "outputs": [],
   "source": [
    "from sklearn.model_selection import train_test_split\n",
    "from sklearn.tree import DecisionTreeClassifier\n",
    "from sklearn.metrics import accuracy_score\n"
   ]
  },
  {
   "cell_type": "code",
   "execution_count": 93,
   "id": "658cee81-b8a8-4f48-a94e-1a2104a43409",
   "metadata": {
    "tags": []
   },
   "outputs": [],
   "source": [
    "# Define the features (CGPA) and the target (university)\n",
    "X = df[['cgpa']]\n",
    "y = df['university']"
   ]
  },
  {
   "cell_type": "code",
   "execution_count": 94,
   "id": "d12b8442-ee05-42af-825e-da3e57fcf124",
   "metadata": {
    "tags": []
   },
   "outputs": [],
   "source": [
    "# Split the data into training and testing sets\n",
    "X_train, X_test, y_train, y_test = train_test_split(X, y, test_size=0.2, random_state=42)\n"
   ]
  },
  {
   "cell_type": "code",
   "execution_count": 95,
   "id": "f095e8b3-79f6-4192-8871-0e6dbb1bbf69",
   "metadata": {
    "tags": []
   },
   "outputs": [
    {
     "data": {
      "text/html": [
       "<style>#sk-container-id-3 {color: black;background-color: white;}#sk-container-id-3 pre{padding: 0;}#sk-container-id-3 div.sk-toggleable {background-color: white;}#sk-container-id-3 label.sk-toggleable__label {cursor: pointer;display: block;width: 100%;margin-bottom: 0;padding: 0.3em;box-sizing: border-box;text-align: center;}#sk-container-id-3 label.sk-toggleable__label-arrow:before {content: \"▸\";float: left;margin-right: 0.25em;color: #696969;}#sk-container-id-3 label.sk-toggleable__label-arrow:hover:before {color: black;}#sk-container-id-3 div.sk-estimator:hover label.sk-toggleable__label-arrow:before {color: black;}#sk-container-id-3 div.sk-toggleable__content {max-height: 0;max-width: 0;overflow: hidden;text-align: left;background-color: #f0f8ff;}#sk-container-id-3 div.sk-toggleable__content pre {margin: 0.2em;color: black;border-radius: 0.25em;background-color: #f0f8ff;}#sk-container-id-3 input.sk-toggleable__control:checked~div.sk-toggleable__content {max-height: 200px;max-width: 100%;overflow: auto;}#sk-container-id-3 input.sk-toggleable__control:checked~label.sk-toggleable__label-arrow:before {content: \"▾\";}#sk-container-id-3 div.sk-estimator input.sk-toggleable__control:checked~label.sk-toggleable__label {background-color: #d4ebff;}#sk-container-id-3 div.sk-label input.sk-toggleable__control:checked~label.sk-toggleable__label {background-color: #d4ebff;}#sk-container-id-3 input.sk-hidden--visually {border: 0;clip: rect(1px 1px 1px 1px);clip: rect(1px, 1px, 1px, 1px);height: 1px;margin: -1px;overflow: hidden;padding: 0;position: absolute;width: 1px;}#sk-container-id-3 div.sk-estimator {font-family: monospace;background-color: #f0f8ff;border: 1px dotted black;border-radius: 0.25em;box-sizing: border-box;margin-bottom: 0.5em;}#sk-container-id-3 div.sk-estimator:hover {background-color: #d4ebff;}#sk-container-id-3 div.sk-parallel-item::after {content: \"\";width: 100%;border-bottom: 1px solid gray;flex-grow: 1;}#sk-container-id-3 div.sk-label:hover label.sk-toggleable__label {background-color: #d4ebff;}#sk-container-id-3 div.sk-serial::before {content: \"\";position: absolute;border-left: 1px solid gray;box-sizing: border-box;top: 0;bottom: 0;left: 50%;z-index: 0;}#sk-container-id-3 div.sk-serial {display: flex;flex-direction: column;align-items: center;background-color: white;padding-right: 0.2em;padding-left: 0.2em;position: relative;}#sk-container-id-3 div.sk-item {position: relative;z-index: 1;}#sk-container-id-3 div.sk-parallel {display: flex;align-items: stretch;justify-content: center;background-color: white;position: relative;}#sk-container-id-3 div.sk-item::before, #sk-container-id-3 div.sk-parallel-item::before {content: \"\";position: absolute;border-left: 1px solid gray;box-sizing: border-box;top: 0;bottom: 0;left: 50%;z-index: -1;}#sk-container-id-3 div.sk-parallel-item {display: flex;flex-direction: column;z-index: 1;position: relative;background-color: white;}#sk-container-id-3 div.sk-parallel-item:first-child::after {align-self: flex-end;width: 50%;}#sk-container-id-3 div.sk-parallel-item:last-child::after {align-self: flex-start;width: 50%;}#sk-container-id-3 div.sk-parallel-item:only-child::after {width: 0;}#sk-container-id-3 div.sk-dashed-wrapped {border: 1px dashed gray;margin: 0 0.4em 0.5em 0.4em;box-sizing: border-box;padding-bottom: 0.4em;background-color: white;}#sk-container-id-3 div.sk-label label {font-family: monospace;font-weight: bold;display: inline-block;line-height: 1.2em;}#sk-container-id-3 div.sk-label-container {text-align: center;}#sk-container-id-3 div.sk-container {/* jupyter's `normalize.less` sets `[hidden] { display: none; }` but bootstrap.min.css set `[hidden] { display: none !important; }` so we also need the `!important` here to be able to override the default hidden behavior on the sphinx rendered scikit-learn.org. See: https://github.com/scikit-learn/scikit-learn/issues/21755 */display: inline-block !important;position: relative;}#sk-container-id-3 div.sk-text-repr-fallback {display: none;}</style><div id=\"sk-container-id-3\" class=\"sk-top-container\"><div class=\"sk-text-repr-fallback\"><pre>DecisionTreeClassifier()</pre><b>In a Jupyter environment, please rerun this cell to show the HTML representation or trust the notebook. <br />On GitHub, the HTML representation is unable to render, please try loading this page with nbviewer.org.</b></div><div class=\"sk-container\" hidden><div class=\"sk-item\"><div class=\"sk-estimator sk-toggleable\"><input class=\"sk-toggleable__control sk-hidden--visually\" id=\"sk-estimator-id-3\" type=\"checkbox\" checked><label for=\"sk-estimator-id-3\" class=\"sk-toggleable__label sk-toggleable__label-arrow\">DecisionTreeClassifier</label><div class=\"sk-toggleable__content\"><pre>DecisionTreeClassifier()</pre></div></div></div></div></div>"
      ],
      "text/plain": [
       "DecisionTreeClassifier()"
      ]
     },
     "execution_count": 95,
     "metadata": {},
     "output_type": "execute_result"
    }
   ],
   "source": [
    "# Create and train the decision tree classifier\n",
    "model = DecisionTreeClassifier()\n",
    "model.fit(X_train, y_train)"
   ]
  },
  {
   "cell_type": "code",
   "execution_count": 96,
   "id": "58e7aa1d-e40f-40c3-9af3-feb9708f3f70",
   "metadata": {
    "tags": []
   },
   "outputs": [],
   "source": [
    "# Predict the university for the test set\n",
    "y_pred = model.predict(X_test)"
   ]
  },
  {
   "cell_type": "code",
   "execution_count": 98,
   "id": "3480f958-b411-4089-bda1-f00ea0706b35",
   "metadata": {
    "tags": []
   },
   "outputs": [
    {
     "name": "stdout",
     "output_type": "stream",
     "text": [
      "Accuracy: 0.3333333333333333\n"
     ]
    }
   ],
   "source": [
    "# Calculate the accuracy of the model\n",
    "accuracy = accuracy_score(y_test, y_pred)\n",
    "print(\"Accuracy:\" ,accuracy)"
   ]
  },
  {
   "cell_type": "markdown",
   "id": "ed13b479-fc0f-4021-bf6f-9dd3499effa6",
   "metadata": {},
   "source": [
    "### How accurate is the decision tree model in predicting the university?"
   ]
  },
  {
   "cell_type": "code",
   "execution_count": 99,
   "id": "f0df7f2a-19d2-4a48-9b2b-24b6eb6f8405",
   "metadata": {
    "tags": []
   },
   "outputs": [
    {
     "name": "stdout",
     "output_type": "stream",
     "text": [
      "Accuracy: 0.3333333333333333\n"
     ]
    }
   ],
   "source": [
    "from sklearn.metrics import accuracy_score\n",
    "\n",
    "# Assuming you have already trained and obtained the predictions\n",
    "# y_pred contains the predicted university labels for the test set\n",
    "# y_test contains the true university labels for the test set\n",
    "\n",
    "# Calculate the accuracy of the model\n",
    "accuracy = accuracy_score(y_test, y_pred)\n",
    "print(\"Accuracy:\",accuracy)"
   ]
  },
  {
   "cell_type": "markdown",
   "id": "e5a8c373-1fb1-46d8-8e40-1e7b8bc5f356",
   "metadata": {},
   "source": [
    "### Can we identify any differences in CGPA distribution between public and private universities?"
   ]
  },
  {
   "cell_type": "code",
   "execution_count": 106,
   "id": "d2662333-139e-4a46-9c47-12d6b9d1b67c",
   "metadata": {
    "tags": []
   },
   "outputs": [
    {
     "data": {
      "image/png": "[encoded data removed]",
      "text/plain": [
       "<Figure size 1000x600 with 1 Axes>"
      ]
     },
     "metadata": {},
     "output_type": "display_data"
    }
   ],
   "source": [
    "# Create a boxplot to visualize the distribution of CGPA by university type\n",
    "plt.figure(figsize=(10, 6))\n",
    "sns.boxplot(x='university_type', y='cgpa', data=df)\n",
    "plt.xlabel('University Type')\n",
    "plt.ylabel('CGPA')\n",
    "plt.title('Distribution of CGPA by University Type')\n",
    "plt.show()"
   ]
  },
  {
   "cell_type": "markdown",
   "id": "2d2c9240-013c-4a96-a456-b4034e6fe666",
   "metadata": {},
   "source": [
    "### What is the overall average CGPA across all universities?"
   ]
  },
  {
   "cell_type": "code",
   "execution_count": 109,
   "id": "6e3a4584-0dc8-4f64-a0cb-b29977d3806b",
   "metadata": {
    "tags": []
   },
   "outputs": [
    {
     "data": {
      "text/plain": [
       "university\n",
       "University A    3.120098\n",
       "University B    3.021482\n",
       "University C    2.990915\n",
       "Name: cgpa, dtype: float64"
      ]
     },
     "execution_count": 109,
     "metadata": {},
     "output_type": "execute_result"
    }
   ],
   "source": [
    "over_all_average= df.groupby(\"university\")[\"cgpa\"].mean()\n",
    "over_all_average"
   ]
  },
  {
   "cell_type": "markdown",
   "id": "09551f15-10f5-4fa8-bceb-b9707898df22",
   "metadata": {},
   "source": [
    "### Can we build a regression model to predict a student's CGPA based on their university?"
   ]
  },
  {
   "cell_type": "code",
   "execution_count": 110,
   "id": "886a84cf-9bcc-4c91-acf1-ba93cbde38ac",
   "metadata": {
    "tags": []
   },
   "outputs": [],
   "source": [
    "# Extract the features (university) and target (CGPA)\n",
    "X = pd.get_dummies(df['university'])  # One-hot encoding or label encoding\n",
    "y = df['cgpa']"
   ]
  },
  {
   "cell_type": "code",
   "execution_count": 111,
   "id": "9a33f018-ac35-4677-830b-01f7a17df592",
   "metadata": {
    "tags": []
   },
   "outputs": [],
   "source": [
    "# Split the data into training and testing sets\n",
    "X_train, X_test, y_train, y_test = train_test_split(X, y, test_size=0.2, random_state=42)\n"
   ]
  },
  {
   "cell_type": "code",
   "execution_count": 112,
   "id": "ee220116-425b-413a-ac8f-d810305d91e3",
   "metadata": {
    "tags": []
   },
   "outputs": [
    {
     "data": {
      "text/html": [
       "<style>#sk-container-id-4 {color: black;background-color: white;}#sk-container-id-4 pre{padding: 0;}#sk-container-id-4 div.sk-toggleable {background-color: white;}#sk-container-id-4 label.sk-toggleable__label {cursor: pointer;display: block;width: 100%;margin-bottom: 0;padding: 0.3em;box-sizing: border-box;text-align: center;}#sk-container-id-4 label.sk-toggleable__label-arrow:before {content: \"▸\";float: left;margin-right: 0.25em;color: #696969;}#sk-container-id-4 label.sk-toggleable__label-arrow:hover:before {color: black;}#sk-container-id-4 div.sk-estimator:hover label.sk-toggleable__label-arrow:before {color: black;}#sk-container-id-4 div.sk-toggleable__content {max-height: 0;max-width: 0;overflow: hidden;text-align: left;background-color: #f0f8ff;}#sk-container-id-4 div.sk-toggleable__content pre {margin: 0.2em;color: black;border-radius: 0.25em;background-color: #f0f8ff;}#sk-container-id-4 input.sk-toggleable__control:checked~div.sk-toggleable__content {max-height: 200px;max-width: 100%;overflow: auto;}#sk-container-id-4 input.sk-toggleable__control:checked~label.sk-toggleable__label-arrow:before {content: \"▾\";}#sk-container-id-4 div.sk-estimator input.sk-toggleable__control:checked~label.sk-toggleable__label {background-color: #d4ebff;}#sk-container-id-4 div.sk-label input.sk-toggleable__control:checked~label.sk-toggleable__label {background-color: #d4ebff;}#sk-container-id-4 input.sk-hidden--visually {border: 0;clip: rect(1px 1px 1px 1px);clip: rect(1px, 1px, 1px, 1px);height: 1px;margin: -1px;overflow: hidden;padding: 0;position: absolute;width: 1px;}#sk-container-id-4 div.sk-estimator {font-family: monospace;background-color: #f0f8ff;border: 1px dotted black;border-radius: 0.25em;box-sizing: border-box;margin-bottom: 0.5em;}#sk-container-id-4 div.sk-estimator:hover {background-color: #d4ebff;}#sk-container-id-4 div.sk-parallel-item::after {content: \"\";width: 100%;border-bottom: 1px solid gray;flex-grow: 1;}#sk-container-id-4 div.sk-label:hover label.sk-toggleable__label {background-color: #d4ebff;}#sk-container-id-4 div.sk-serial::before {content: \"\";position: absolute;border-left: 1px solid gray;box-sizing: border-box;top: 0;bottom: 0;left: 50%;z-index: 0;}#sk-container-id-4 div.sk-serial {display: flex;flex-direction: column;align-items: center;background-color: white;padding-right: 0.2em;padding-left: 0.2em;position: relative;}#sk-container-id-4 div.sk-item {position: relative;z-index: 1;}#sk-container-id-4 div.sk-parallel {display: flex;align-items: stretch;justify-content: center;background-color: white;position: relative;}#sk-container-id-4 div.sk-item::before, #sk-container-id-4 div.sk-parallel-item::before {content: \"\";position: absolute;border-left: 1px solid gray;box-sizing: border-box;top: 0;bottom: 0;left: 50%;z-index: -1;}#sk-container-id-4 div.sk-parallel-item {display: flex;flex-direction: column;z-index: 1;position: relative;background-color: white;}#sk-container-id-4 div.sk-parallel-item:first-child::after {align-self: flex-end;width: 50%;}#sk-container-id-4 div.sk-parallel-item:last-child::after {align-self: flex-start;width: 50%;}#sk-container-id-4 div.sk-parallel-item:only-child::after {width: 0;}#sk-container-id-4 div.sk-dashed-wrapped {border: 1px dashed gray;margin: 0 0.4em 0.5em 0.4em;box-sizing: border-box;padding-bottom: 0.4em;background-color: white;}#sk-container-id-4 div.sk-label label {font-family: monospace;font-weight: bold;display: inline-block;line-height: 1.2em;}#sk-container-id-4 div.sk-label-container {text-align: center;}#sk-container-id-4 div.sk-container {/* jupyter's `normalize.less` sets `[hidden] { display: none; }` but bootstrap.min.css set `[hidden] { display: none !important; }` so we also need the `!important` here to be able to override the default hidden behavior on the sphinx rendered scikit-learn.org. See: https://github.com/scikit-learn/scikit-learn/issues/21755 */display: inline-block !important;position: relative;}#sk-container-id-4 div.sk-text-repr-fallback {display: none;}</style><div id=\"sk-container-id-4\" class=\"sk-top-container\"><div class=\"sk-text-repr-fallback\"><pre>LinearRegression()</pre><b>In a Jupyter environment, please rerun this cell to show the HTML representation or trust the notebook. <br />On GitHub, the HTML representation is unable to render, please try loading this page with nbviewer.org.</b></div><div class=\"sk-container\" hidden><div class=\"sk-item\"><div class=\"sk-estimator sk-toggleable\"><input class=\"sk-toggleable__control sk-hidden--visually\" id=\"sk-estimator-id-4\" type=\"checkbox\" checked><label for=\"sk-estimator-id-4\" class=\"sk-toggleable__label sk-toggleable__label-arrow\">LinearRegression</label><div class=\"sk-toggleable__content\"><pre>LinearRegression()</pre></div></div></div></div></div>"
      ],
      "text/plain": [
       "LinearRegression()"
      ]
     },
     "execution_count": 112,
     "metadata": {},
     "output_type": "execute_result"
    }
   ],
   "source": [
    "# Create and train the regression model\n",
    "model = LinearRegression()\n",
    "model.fit(X_train, y_train)"
   ]
  },
  {
   "cell_type": "code",
   "execution_count": 113,
   "id": "856c8759-b601-4008-ae2e-b80dbf0f4518",
   "metadata": {
    "tags": []
   },
   "outputs": [],
   "source": [
    "# Predict CGPA for the test set\n",
    "y_pred = model.predict(X_test)"
   ]
  },
  {
   "cell_type": "code",
   "execution_count": 114,
   "id": "987d6660-3f24-41b9-a492-d3cd39e754fe",
   "metadata": {
    "tags": []
   },
   "outputs": [
    {
     "name": "stdout",
     "output_type": "stream",
     "text": [
      "Mean Squared Error:  0.33871820918301637\n"
     ]
    }
   ],
   "source": [
    "# Evaluate the model using mean squared error\n",
    "mse = mean_squared_error(y_test, y_pred)\n",
    "print(\"Mean Squared Error: \",mse)"
   ]
  },
  {
   "cell_type": "markdown",
   "id": "328982bc-2442-41cb-90a6-4bcae66aea81",
   "metadata": {},
   "source": [
    "### How well does the regression model perform in predicting the CGPA?"
   ]
  },
  {
   "cell_type": "code",
   "execution_count": 119,
   "id": "8f263494-fa5e-4587-b09c-6581d42203e4",
   "metadata": {
    "tags": []
   },
   "outputs": [],
   "source": [
    "from sklearn.metrics import mean_squared_error, mean_absolute_error, r2_score\n",
    "\n",
    "# Evaluate the model\n",
    "mse = mean_squared_error(y_test, y_pred)\n",
    "rmse = mean_squared_error(y_test, y_pred, squared=False)\n",
    "mae = mean_absolute_error(y_test, y_pred)\n",
    "r2 = r2_score(y_test, y_pred)\n"
   ]
  },
  {
   "cell_type": "code",
   "execution_count": 120,
   "id": "fa2599af-8131-49af-8875-30041cf29f04",
   "metadata": {
    "tags": []
   },
   "outputs": [
    {
     "name": "stdout",
     "output_type": "stream",
     "text": [
      "Mean Squared Error (MSE):  0.33871820918301637\n",
      "Root Mean Squared Error (RMSE): 0.581995025050057\n",
      "Mean Absolute Error (MAE):  0.4983123271793711\n",
      "R-squared (R2) Score: -0.03238663512590989\n"
     ]
    }
   ],
   "source": [
    "# Print the evaluation metrics\n",
    "print(\"Mean Squared Error (MSE): \",mse)\n",
    "print(\"Root Mean Squared Error (RMSE):\", rmse)\n",
    "print(\"Mean Absolute Error (MAE): \",mae)\n",
    "print(\"R-squared (R2) Score:\", r2)"
   ]
  },
  {
   "cell_type": "markdown",
   "id": "344830e1-7158-488d-9b15-4584db107c58",
   "metadata": {},
   "source": [
    "### Are there any missing or erroneous values in the CGPA column?"
   ]
  },
  {
   "cell_type": "code",
   "execution_count": 121,
   "id": "d8b825cd-911f-4237-9d2b-11210c4c045d",
   "metadata": {
    "tags": []
   },
   "outputs": [
    {
     "data": {
      "text/plain": [
       "0"
      ]
     },
     "execution_count": 121,
     "metadata": {},
     "output_type": "execute_result"
    }
   ],
   "source": [
    "df[\"cgpa\"].isnull().sum()"
   ]
  },
  {
   "cell_type": "code",
   "execution_count": 123,
   "id": "8724c518-4b22-40fb-b82f-6d27cad83d9e",
   "metadata": {
    "tags": []
   },
   "outputs": [
    {
     "name": "stdout",
     "output_type": "stream",
     "text": [
      "Erroneous values in CGPA column: 0\n"
     ]
    }
   ],
   "source": [
    "# Check for erroneous values in the CGPA column (if applicable)\n",
    "# You can define the range of valid CGPA values based on your dataset\n",
    "valid_cgpa_range = (0, 4.0)\n",
    "erroneous_values = df[(df['cgpa'] < valid_cgpa_range[0]) | (df['cgpa'] > valid_cgpa_range[1])]['cgpa'].count()\n",
    "print(\"Erroneous values in CGPA column:\" ,erroneous_values)"
   ]
  },
  {
   "cell_type": "markdown",
   "id": "33493550-2647-4542-97d8-4498eb7312ad",
   "metadata": {},
   "source": [
    "### What is the range of CGPA scores for each university?"
   ]
  },
  {
   "cell_type": "code",
   "execution_count": 148,
   "id": "f8f517e4-c4d4-4475-9580-a7c89dc32746",
   "metadata": {
    "tags": []
   },
   "outputs": [],
   "source": [
    "# Calculate the range of CGPA scores for each university\n",
    "cgpa_range = df.groupby('university')['cgpa'].agg(['min', 'max'])"
   ]
  },
  {
   "cell_type": "code",
   "execution_count": 149,
   "id": "e634ee20-55c2-48fa-8308-d9cd62d2d3c4",
   "metadata": {
    "tags": []
   },
   "outputs": [
    {
     "name": "stdout",
     "output_type": "stream",
     "text": [
      "                   min       max\n",
      "university                      \n",
      "University A  2.036485  3.981859\n",
      "University B  2.010600  3.950134\n",
      "University C  2.005422  3.995385\n"
     ]
    }
   ],
   "source": [
    "# Print the range of CGPA scores for each university\n",
    "print(cgpa_range)"
   ]
  },
  {
   "cell_type": "markdown",
   "id": "622bc093-5738-40f3-8529-f6c2d1b5f0bc",
   "metadata": {
    "tags": []
   },
   "source": [
    "### Can we identify any clusters or groups of students based on the CGPA and university using hierarchical clustering?"
   ]
  },
  {
   "cell_type": "code",
   "execution_count": 152,
   "id": "3a8378d5-603a-4290-8389-35deae726a61",
   "metadata": {
    "tags": []
   },
   "outputs": [],
   "source": [
    "from scipy.cluster.hierarchy import linkage, dendrogram"
   ]
  },
  {
   "cell_type": "code",
   "execution_count": 155,
   "id": "5eabe1ca-b8e4-4096-8859-5237808b6cc8",
   "metadata": {
    "tags": []
   },
   "outputs": [],
   "source": [
    "# One-hot encode the 'university' column\n",
    "df_encoded = pd.get_dummies(df, columns=['university'])"
   ]
  },
  {
   "cell_type": "code",
   "execution_count": 156,
   "id": "a98d5f6a-5f78-4165-b2b6-9ffff8f577fe",
   "metadata": {
    "tags": []
   },
   "outputs": [],
   "source": [
    "# Extract the features (CGPA and encoded universities)\n",
    "X = df_encoded[['cgpa', 'university_University A', 'university_University B', 'university_University C']]\n"
   ]
  },
  {
   "cell_type": "code",
   "execution_count": 157,
   "id": "bbd91419-cec8-4c5f-9b90-30a7db5ed5d2",
   "metadata": {
    "tags": []
   },
   "outputs": [
    {
     "name": "stderr",
     "output_type": "stream",
     "text": [
      "C:\\Users\\Syed Muqtasid Ali\\anaconda3\\lib\\site-packages\\pandas\\core\\dtypes\\cast.py:1641: DeprecationWarning: np.find_common_type is deprecated.  Please use `np.result_type` or `np.promote_types`.\n",
      "See https://numpy.org/devdocs/release/1.25.0-notes.html and the docs for more information.  (Deprecated NumPy 1.25)\n",
      "  return np.find_common_type(types, [])\n"
     ]
    }
   ],
   "source": [
    "# Perform hierarchical clustering\n",
    "linkage_matrix = linkage(X, method='ward')"
   ]
  },
  {
   "cell_type": "code",
   "execution_count": 161,
   "id": "910b0349-063e-4421-adab-9a9f2f590788",
   "metadata": {
    "tags": []
   },
   "outputs": [
    {
     "data": {
      "image/png": "[encoded data removed]",
      "text/plain": [
       "<Figure size 1000x600 with 1 Axes>"
      ]
     },
     "metadata": {},
     "output_type": "display_data"
    }
   ],
   "source": [
    "# Plot the dendrogram\n",
    "plt.figure(figsize=(10, 6))\n",
    "dendrogram(linkage_matrix, labels=df_encoded.index, leaf_font_size=10)\n",
    "plt.xlabel('Students')\n",
    "plt.ylabel('Distance')\n",
    "plt.title('Hierarchical Clustering Dendrogram')\n",
    "plt.show()"
   ]
  },
  {
   "cell_type": "markdown",
   "id": "509f508a-37cc-4389-8dac-f3373b8f8573",
   "metadata": {},
   "source": [
    "### Can we build a classification model to predict the university based on the CGPA and the length of the student's name?"
   ]
  },
  {
   "cell_type": "code",
   "execution_count": 162,
   "id": "bdf21793-2088-40ec-987d-d60f71714c91",
   "metadata": {
    "tags": []
   },
   "outputs": [],
   "source": [
    "from sklearn.linear_model import LogisticRegression"
   ]
  },
  {
   "cell_type": "code",
   "execution_count": 163,
   "id": "e03ff773-3b8c-4efd-9156-e98b383f9af3",
   "metadata": {
    "tags": []
   },
   "outputs": [],
   "source": [
    "# Extract the features (CGPA and name length) and the target (university)\n",
    "X = df[['cgpa', 'name_length']]\n",
    "y = df['university']"
   ]
  },
  {
   "cell_type": "code",
   "execution_count": 164,
   "id": "fde28174-46a4-402e-86e3-362d940ecae9",
   "metadata": {
    "tags": []
   },
   "outputs": [],
   "source": [
    "# Split the data into training and testing sets\n",
    "X_train, X_test, y_train, y_test = train_test_split(X, y, test_size=0.2, random_state=42)\n"
   ]
  },
  {
   "cell_type": "code",
   "execution_count": 165,
   "id": "10c914d4-7309-4562-9cc7-80cecf4c9a2c",
   "metadata": {
    "tags": []
   },
   "outputs": [
    {
     "name": "stderr",
     "output_type": "stream",
     "text": [
      "C:\\Users\\Syed Muqtasid Ali\\anaconda3\\lib\\site-packages\\pandas\\core\\dtypes\\cast.py:1641: DeprecationWarning: np.find_common_type is deprecated.  Please use `np.result_type` or `np.promote_types`.\n",
      "See https://numpy.org/devdocs/release/1.25.0-notes.html and the docs for more information.  (Deprecated NumPy 1.25)\n",
      "  return np.find_common_type(types, [])\n"
     ]
    },
    {
     "data": {
      "text/html": [
       "<style>#sk-container-id-5 {color: black;background-color: white;}#sk-container-id-5 pre{padding: 0;}#sk-container-id-5 div.sk-toggleable {background-color: white;}#sk-container-id-5 label.sk-toggleable__label {cursor: pointer;display: block;width: 100%;margin-bottom: 0;padding: 0.3em;box-sizing: border-box;text-align: center;}#sk-container-id-5 label.sk-toggleable__label-arrow:before {content: \"▸\";float: left;margin-right: 0.25em;color: #696969;}#sk-container-id-5 label.sk-toggleable__label-arrow:hover:before {color: black;}#sk-container-id-5 div.sk-estimator:hover label.sk-toggleable__label-arrow:before {color: black;}#sk-container-id-5 div.sk-toggleable__content {max-height: 0;max-width: 0;overflow: hidden;text-align: left;background-color: #f0f8ff;}#sk-container-id-5 div.sk-toggleable__content pre {margin: 0.2em;color: black;border-radius: 0.25em;background-color: #f0f8ff;}#sk-container-id-5 input.sk-toggleable__control:checked~div.sk-toggleable__content {max-height: 200px;max-width: 100%;overflow: auto;}#sk-container-id-5 input.sk-toggleable__control:checked~label.sk-toggleable__label-arrow:before {content: \"▾\";}#sk-container-id-5 div.sk-estimator input.sk-toggleable__control:checked~label.sk-toggleable__label {background-color: #d4ebff;}#sk-container-id-5 div.sk-label input.sk-toggleable__control:checked~label.sk-toggleable__label {background-color: #d4ebff;}#sk-container-id-5 input.sk-hidden--visually {border: 0;clip: rect(1px 1px 1px 1px);clip: rect(1px, 1px, 1px, 1px);height: 1px;margin: -1px;overflow: hidden;padding: 0;position: absolute;width: 1px;}#sk-container-id-5 div.sk-estimator {font-family: monospace;background-color: #f0f8ff;border: 1px dotted black;border-radius: 0.25em;box-sizing: border-box;margin-bottom: 0.5em;}#sk-container-id-5 div.sk-estimator:hover {background-color: #d4ebff;}#sk-container-id-5 div.sk-parallel-item::after {content: \"\";width: 100%;border-bottom: 1px solid gray;flex-grow: 1;}#sk-container-id-5 div.sk-label:hover label.sk-toggleable__label {background-color: #d4ebff;}#sk-container-id-5 div.sk-serial::before {content: \"\";position: absolute;border-left: 1px solid gray;box-sizing: border-box;top: 0;bottom: 0;left: 50%;z-index: 0;}#sk-container-id-5 div.sk-serial {display: flex;flex-direction: column;align-items: center;background-color: white;padding-right: 0.2em;padding-left: 0.2em;position: relative;}#sk-container-id-5 div.sk-item {position: relative;z-index: 1;}#sk-container-id-5 div.sk-parallel {display: flex;align-items: stretch;justify-content: center;background-color: white;position: relative;}#sk-container-id-5 div.sk-item::before, #sk-container-id-5 div.sk-parallel-item::before {content: \"\";position: absolute;border-left: 1px solid gray;box-sizing: border-box;top: 0;bottom: 0;left: 50%;z-index: -1;}#sk-container-id-5 div.sk-parallel-item {display: flex;flex-direction: column;z-index: 1;position: relative;background-color: white;}#sk-container-id-5 div.sk-parallel-item:first-child::after {align-self: flex-end;width: 50%;}#sk-container-id-5 div.sk-parallel-item:last-child::after {align-self: flex-start;width: 50%;}#sk-container-id-5 div.sk-parallel-item:only-child::after {width: 0;}#sk-container-id-5 div.sk-dashed-wrapped {border: 1px dashed gray;margin: 0 0.4em 0.5em 0.4em;box-sizing: border-box;padding-bottom: 0.4em;background-color: white;}#sk-container-id-5 div.sk-label label {font-family: monospace;font-weight: bold;display: inline-block;line-height: 1.2em;}#sk-container-id-5 div.sk-label-container {text-align: center;}#sk-container-id-5 div.sk-container {/* jupyter's `normalize.less` sets `[hidden] { display: none; }` but bootstrap.min.css set `[hidden] { display: none !important; }` so we also need the `!important` here to be able to override the default hidden behavior on the sphinx rendered scikit-learn.org. See: https://github.com/scikit-learn/scikit-learn/issues/21755 */display: inline-block !important;position: relative;}#sk-container-id-5 div.sk-text-repr-fallback {display: none;}</style><div id=\"sk-container-id-5\" class=\"sk-top-container\"><div class=\"sk-text-repr-fallback\"><pre>LogisticRegression()</pre><b>In a Jupyter environment, please rerun this cell to show the HTML representation or trust the notebook. <br />On GitHub, the HTML representation is unable to render, please try loading this page with nbviewer.org.</b></div><div class=\"sk-container\" hidden><div class=\"sk-item\"><div class=\"sk-estimator sk-toggleable\"><input class=\"sk-toggleable__control sk-hidden--visually\" id=\"sk-estimator-id-5\" type=\"checkbox\" checked><label for=\"sk-estimator-id-5\" class=\"sk-toggleable__label sk-toggleable__label-arrow\">LogisticRegression</label><div class=\"sk-toggleable__content\"><pre>LogisticRegression()</pre></div></div></div></div></div>"
      ],
      "text/plain": [
       "LogisticRegression()"
      ]
     },
     "execution_count": 165,
     "metadata": {},
     "output_type": "execute_result"
    }
   ],
   "source": [
    "# Create and train the classification model\n",
    "model = LogisticRegression()\n",
    "model.fit(X_train, y_train)"
   ]
  },
  {
   "cell_type": "code",
   "execution_count": 166,
   "id": "38bd0300-30cb-4453-9959-3562acf51976",
   "metadata": {
    "tags": []
   },
   "outputs": [
    {
     "name": "stderr",
     "output_type": "stream",
     "text": [
      "C:\\Users\\Syed Muqtasid Ali\\anaconda3\\lib\\site-packages\\pandas\\core\\dtypes\\cast.py:1641: DeprecationWarning: np.find_common_type is deprecated.  Please use `np.result_type` or `np.promote_types`.\n",
      "See https://numpy.org/devdocs/release/1.25.0-notes.html and the docs for more information.  (Deprecated NumPy 1.25)\n",
      "  return np.find_common_type(types, [])\n"
     ]
    }
   ],
   "source": [
    "# Predict the university for the test set\n",
    "y_pred = model.predict(X_test)"
   ]
  },
  {
   "cell_type": "code",
   "execution_count": 167,
   "id": "91f06ac7-7edc-4e62-9fe5-663c3c4c5949",
   "metadata": {
    "tags": []
   },
   "outputs": [
    {
     "name": "stdout",
     "output_type": "stream",
     "text": [
      "Accuracy: 0.3\n"
     ]
    }
   ],
   "source": [
    "# Calculate the accuracy of the model\n",
    "accuracy = accuracy_score(y_test, y_pred)\n",
    "print(f\"Accuracy: {accuracy}\")"
   ]
  },
  {
   "cell_type": "markdown",
   "id": "96933537-35c2-40ce-bf68-56dbff5e4bec",
   "metadata": {},
   "source": [
    "### What is the correlation between the length of the student's name and the CGPA within each university?"
   ]
  },
  {
   "cell_type": "code",
   "execution_count": 168,
   "id": "f1d55767-b94f-46ce-a98d-5b01b427c055",
   "metadata": {
    "tags": []
   },
   "outputs": [],
   "source": [
    "# Calculate the correlation between name length and CGPA within each university\n",
    "correlations = df.groupby('university')[['name_length', 'cgpa']].corr().iloc[0::2, -1]\n"
   ]
  },
  {
   "cell_type": "code",
   "execution_count": 169,
   "id": "a339a005-0b02-455e-aa5b-5b047e702ce5",
   "metadata": {
    "tags": []
   },
   "outputs": [
    {
     "name": "stdout",
     "output_type": "stream",
     "text": [
      "university               \n",
      "University A  name_length   -0.121827\n",
      "University B  name_length    0.009734\n",
      "University C  name_length    0.007274\n",
      "Name: cgpa, dtype: float64\n"
     ]
    }
   ],
   "source": [
    "# Print the correlation values\n",
    "print(correlations)"
   ]
  },
  {
   "cell_type": "markdown",
   "id": "05af2d5d-d187-49da-8791-b365608c8cba",
   "metadata": {},
   "source": [
    "# End Of Question\n",
    "These questions should help you explore various aspects of the dataset and uncover insights about the students' CGPA scores, universities, and potential relationships between variables. Remember to choose the questions that align with your project goals and objectives. Good luck with your data analysis!"
   ]
  },
  {
   "cell_type": "code",
   "execution_count": null,
   "id": "27a34131-9f65-454f-804b-518f6d9149ac",
   "metadata": {},
   "outputs": [],
   "source": []
  }
 ],
 "metadata": {
  "kernelspec": {
   "display_name": "Python 3 (ipykernel)",
   "language": "python",
   "name": "python3"
  },
  "language_info": {
   "codemirror_mode": {
    "name": "ipython",
    "version": 3
   },
   "file_extension": ".py",
   "mimetype": "text/x-python",
   "name": "python",
   "nbconvert_exporter": "python",
   "pygments_lexer": "ipython3",
   "version": "3.10.11"
  }
 },
 "nbformat": 4,
 "nbformat_minor": 5
}
